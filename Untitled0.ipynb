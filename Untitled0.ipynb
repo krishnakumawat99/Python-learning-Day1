{
  "nbformat": 4,
  "nbformat_minor": 0,
  "metadata": {
    "colab": {
      "provenance": []
    },
    "kernelspec": {
      "name": "python3",
      "display_name": "Python 3"
    },
    "language_info": {
      "name": "python"
    }
  },
  "cells": [
    {
      "cell_type": "code",
      "execution_count": null,
      "metadata": {
        "colab": {
          "base_uri": "https://localhost:8080/"
        },
        "id": "hKU217b_ni4X",
        "outputId": "1dc21fea-641f-4c6c-f82b-655d65360579"
      },
      "outputs": [
        {
          "output_type": "stream",
          "name": "stdout",
          "text": [
            "hello\n"
          ]
        }
      ],
      "source": [
        "print(\"hello\")"
      ]
    },
    {
      "cell_type": "code",
      "source": [
        "print(\"hello\", end=\"$\")\n",
        "print(\"krishna\")\n",
        "print(\"regex\")"
      ],
      "metadata": {
        "colab": {
          "base_uri": "https://localhost:8080/"
        },
        "id": "VQBzIgyInt2v",
        "outputId": "8debbef1-b3c5-4569-ced9-1216d70bc1d3"
      },
      "execution_count": null,
      "outputs": [
        {
          "output_type": "stream",
          "name": "stdout",
          "text": [
            "hello$krishna\n",
            "regex\n"
          ]
        }
      ]
    },
    {
      "cell_type": "code",
      "source": [
        "x=10\n",
        "print(x, type(x))"
      ],
      "metadata": {
        "colab": {
          "base_uri": "https://localhost:8080/"
        },
        "id": "8Ny3mA3Ln7WS",
        "outputId": "bfce84fe-18dd-45e6-eecc-21c967e84549"
      },
      "execution_count": null,
      "outputs": [
        {
          "output_type": "stream",
          "name": "stdout",
          "text": [
            "10 <class 'int'>\n"
          ]
        }
      ]
    },
    {
      "cell_type": "code",
      "source": [
        "x=\"10\"\n",
        "print(x, type(x))"
      ],
      "metadata": {
        "colab": {
          "base_uri": "https://localhost:8080/"
        },
        "id": "DZkOCq4_pAxP",
        "outputId": "9459c889-270e-45a0-996f-2e6969b6448c"
      },
      "execution_count": null,
      "outputs": [
        {
          "output_type": "stream",
          "name": "stdout",
          "text": [
            "10 <class 'str'>\n"
          ]
        }
      ]
    },
    {
      "cell_type": "code",
      "source": [
        "x='10'\n",
        "print(x, type(x))"
      ],
      "metadata": {
        "colab": {
          "base_uri": "https://localhost:8080/"
        },
        "id": "UVKBEHqTpP6_",
        "outputId": "40126b8b-ba3c-44e2-a733-d807bb315cd1"
      },
      "execution_count": null,
      "outputs": [
        {
          "output_type": "stream",
          "name": "stdout",
          "text": [
            "10 <class 'str'>\n"
          ]
        }
      ]
    },
    {
      "cell_type": "code",
      "source": [
        "print(\"hello\", end=\"\\n\")\n",
        "print(\"krishna\")\n",
        "print(\"regex\")"
      ],
      "metadata": {
        "colab": {
          "base_uri": "https://localhost:8080/"
        },
        "id": "34KJF2PLpYB9",
        "outputId": "cdaaf679-b1fe-476f-83ce-514a9e6366b0"
      },
      "execution_count": null,
      "outputs": [
        {
          "output_type": "stream",
          "name": "stdout",
          "text": [
            "hello\n",
            "krishna\n",
            "regex\n"
          ]
        }
      ]
    },
    {
      "cell_type": "code",
      "source": [
        "print(\"hello\", end=\"-\")\n",
        "print(\"krishna\")\n",
        "print(\"regex\")"
      ],
      "metadata": {
        "colab": {
          "base_uri": "https://localhost:8080/"
        },
        "id": "mVigp64tpv45",
        "outputId": "9efa6f5f-a334-48a5-a97f-44743590b10a"
      },
      "execution_count": null,
      "outputs": [
        {
          "output_type": "stream",
          "name": "stdout",
          "text": [
            "hello-krishna\n",
            "regex\n"
          ]
        }
      ]
    },
    {
      "cell_type": "code",
      "source": [
        "address=\"\"\"plot no 35-b\n",
        "rajasthan india 302012 \"\"\""
      ],
      "metadata": {
        "id": "CYl2f-2QpyTa"
      },
      "execution_count": null,
      "outputs": []
    },
    {
      "cell_type": "code",
      "source": [
        "print(address)"
      ],
      "metadata": {
        "colab": {
          "base_uri": "https://localhost:8080/"
        },
        "id": "1fA_uKzyqRhe",
        "outputId": "0aea5992-9303-404a-c396-7a856202ae80"
      },
      "execution_count": null,
      "outputs": [
        {
          "output_type": "stream",
          "name": "stdout",
          "text": [
            "plot no 35-b \n",
            "rajasthan india 302012 \n"
          ]
        }
      ]
    },
    {
      "cell_type": "code",
      "source": [
        "#hello regex"
      ],
      "metadata": {
        "id": "JLVLlPC3qYea"
      },
      "execution_count": null,
      "outputs": []
    },
    {
      "cell_type": "code",
      "source": [
        "'''\n",
        "hey\n",
        "this is a\n",
        "multi line comment\n",
        "'''\n",
        "x=100"
      ],
      "metadata": {
        "id": "9cwDAlMkrFeD"
      },
      "execution_count": null,
      "outputs": []
    },
    {
      "cell_type": "code",
      "source": [
        "msg='''\n",
        "hey\n",
        "this is a\n",
        "multi line comment\n",
        "'''\n",
        "print(type(msg))"
      ],
      "metadata": {
        "colab": {
          "base_uri": "https://localhost:8080/"
        },
        "id": "UmZUXkejrZHq",
        "outputId": "0f05e122-2022-48ce-8b59-40d31ea6a90f"
      },
      "execution_count": null,
      "outputs": [
        {
          "output_type": "stream",
          "name": "stdout",
          "text": [
            "<class 'str'>\n"
          ]
        }
      ]
    },
    {
      "cell_type": "code",
      "source": [
        "'''\n",
        "hey\n",
        "this is a\n",
        "multi line comment\n",
        "'''\n",
        "print(\"hello\")"
      ],
      "metadata": {
        "colab": {
          "base_uri": "https://localhost:8080/"
        },
        "id": "eEa1A3MOrhBk",
        "outputId": "3aeb5b4f-b0db-4c9d-f19d-2190aaddf86c"
      },
      "execution_count": null,
      "outputs": [
        {
          "output_type": "stream",
          "name": "stdout",
          "text": [
            "hello\n"
          ]
        }
      ]
    },
    {
      "cell_type": "code",
      "source": [
        "#keyword\n",
        "#identifer\n",
        "#literal => raw data , 10 and hey\n",
        "x=10\n",
        "x=\"hey\""
      ],
      "metadata": {
        "id": "61CPr2l6rv7I"
      },
      "execution_count": null,
      "outputs": []
    },
    {
      "cell_type": "code",
      "source": [
        "# operator\n",
        "# symbol -> task execute\n",
        "\n",
        "#arithmetic\n",
        "10+3"
      ],
      "metadata": {
        "colab": {
          "base_uri": "https://localhost:8080/"
        },
        "id": "UwNMgHDEsi3t",
        "outputId": "52559ea9-3fe3-4b9f-b558-1b38b7ff7e1b"
      },
      "execution_count": null,
      "outputs": [
        {
          "output_type": "execute_result",
          "data": {
            "text/plain": [
              "13"
            ]
          },
          "metadata": {},
          "execution_count": 19
        }
      ]
    },
    {
      "cell_type": "code",
      "source": [
        "11/2"
      ],
      "metadata": {
        "colab": {
          "base_uri": "https://localhost:8080/"
        },
        "id": "a6yyyVLKs0St",
        "outputId": "d218edb6-59ab-4ab7-b2cf-fefaa2814ec1"
      },
      "execution_count": null,
      "outputs": [
        {
          "output_type": "execute_result",
          "data": {
            "text/plain": [
              "5.5"
            ]
          },
          "metadata": {},
          "execution_count": 20
        }
      ]
    },
    {
      "cell_type": "code",
      "source": [
        "11//2 #floor division => int"
      ],
      "metadata": {
        "colab": {
          "base_uri": "https://localhost:8080/"
        },
        "id": "nWGdCs7Ws8N_",
        "outputId": "c5a88820-428c-44f3-a12e-1f064056afb7"
      },
      "execution_count": null,
      "outputs": [
        {
          "output_type": "execute_result",
          "data": {
            "text/plain": [
              "5"
            ]
          },
          "metadata": {},
          "execution_count": 21
        }
      ]
    },
    {
      "cell_type": "code",
      "source": [
        "5.0 + 4"
      ],
      "metadata": {
        "colab": {
          "base_uri": "https://localhost:8080/"
        },
        "id": "v6Qh9Paxs_qq",
        "outputId": "cc44cd28-83de-4e8b-dba6-c8efda23c274"
      },
      "execution_count": null,
      "outputs": [
        {
          "output_type": "execute_result",
          "data": {
            "text/plain": [
              "9.0"
            ]
          },
          "metadata": {},
          "execution_count": 22
        }
      ]
    },
    {
      "cell_type": "code",
      "source": [
        "2**5\n",
        "#2*2*2*2*2"
      ],
      "metadata": {
        "colab": {
          "base_uri": "https://localhost:8080/"
        },
        "id": "4Im7UEhTtOxj",
        "outputId": "d7baaad4-3c35-4ecc-e137-20b4ab9015ba"
      },
      "execution_count": null,
      "outputs": [
        {
          "output_type": "execute_result",
          "data": {
            "text/plain": [
              "32"
            ]
          },
          "metadata": {},
          "execution_count": 24
        }
      ]
    },
    {
      "cell_type": "code",
      "source": [
        "11%3"
      ],
      "metadata": {
        "colab": {
          "base_uri": "https://localhost:8080/"
        },
        "id": "TzXvMO3gt1OB",
        "outputId": "7b619441-caef-4275-9ebe-a4fef5361fa0"
      },
      "execution_count": null,
      "outputs": [
        {
          "output_type": "execute_result",
          "data": {
            "text/plain": [
              "2"
            ]
          },
          "metadata": {},
          "execution_count": 25
        }
      ]
    },
    {
      "cell_type": "code",
      "source": [
        "# + - * / // ** %"
      ],
      "metadata": {
        "id": "XoiZS8k6uBY1"
      },
      "execution_count": null,
      "outputs": []
    },
    {
      "cell_type": "code",
      "source": [
        "10+5*3-4/2"
      ],
      "metadata": {
        "colab": {
          "base_uri": "https://localhost:8080/"
        },
        "id": "g-4r4mQiuMNI",
        "outputId": "dc2e782a-8d1d-4035-8122-a1e99b05b395"
      },
      "execution_count": null,
      "outputs": [
        {
          "output_type": "execute_result",
          "data": {
            "text/plain": [
              "23.0"
            ]
          },
          "metadata": {},
          "execution_count": 28
        }
      ]
    },
    {
      "cell_type": "code",
      "source": [
        "# ** 1st\n",
        "# * / , // ,% 2nd\n",
        "# + - 3rd"
      ],
      "metadata": {
        "id": "JZMFRHC-uRWJ"
      },
      "execution_count": null,
      "outputs": []
    },
    {
      "cell_type": "code",
      "source": [
        "# comparison operator => Boolean (True or false)\n",
        "# > , < , <= , != , ==\n",
        "\n",
        "x=1001\n",
        "x!=100"
      ],
      "metadata": {
        "colab": {
          "base_uri": "https://localhost:8080/"
        },
        "id": "cshTxaonvsgE",
        "outputId": "9be0b0f8-47b1-4fbd-95d8-e587271b0e8f"
      },
      "execution_count": null,
      "outputs": [
        {
          "output_type": "execute_result",
          "data": {
            "text/plain": [
              "True"
            ]
          },
          "metadata": {},
          "execution_count": 32
        }
      ]
    },
    {
      "cell_type": "code",
      "source": [
        "# assignment\n",
        "x=\"hey\""
      ],
      "metadata": {
        "id": "Dh6NUfQOwHlI"
      },
      "execution_count": null,
      "outputs": []
    },
    {
      "cell_type": "code",
      "source": [
        "age=19 # += , -= , **= , /= , %=\n",
        "age+=1\n",
        "print(age)"
      ],
      "metadata": {
        "colab": {
          "base_uri": "https://localhost:8080/"
        },
        "id": "r6PnwVHhwvw1",
        "outputId": "a49801d1-7ad2-4a5c-9d2b-95dddeb12085"
      },
      "execution_count": null,
      "outputs": [
        {
          "output_type": "stream",
          "name": "stdout",
          "text": [
            "20\n"
          ]
        }
      ]
    },
    {
      "cell_type": "code",
      "source": [
        "x=18\n",
        "x//=2\n",
        "print(x)"
      ],
      "metadata": {
        "colab": {
          "base_uri": "https://localhost:8080/"
        },
        "id": "IH8DaITXw1_J",
        "outputId": "5e167062-5923-41e0-949f-fd33ff3ea48f"
      },
      "execution_count": null,
      "outputs": [
        {
          "output_type": "stream",
          "name": "stdout",
          "text": [
            "9\n"
          ]
        }
      ]
    },
    {
      "cell_type": "code",
      "source": [],
      "metadata": {
        "id": "ywp4vOa7xfsx"
      },
      "execution_count": null,
      "outputs": []
    }
  ]
}